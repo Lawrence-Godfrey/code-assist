{
 "cells": [
  {
   "cell_type": "code",
   "id": "initial_id",
   "metadata": {
    "collapsed": true
   },
   "source": [
    "# Install pytorch for CPU\n",
    "import sys\n",
    "import os\n",
    "\n",
    "# Construct the pip install command\n",
    "command = f'\"{sys.executable}\" -m pip install torch torchvision torchaudio --index-url https://download.pytorch.org/whl/cpu'\n",
    "\n",
    "# Execute the command\n",
    "os.system(command)"
   ],
   "outputs": [],
   "execution_count": null
  },
  {
   "metadata": {},
   "cell_type": "code",
   "source": [
    "# Load model directly\n",
    "from transformers import AutoTokenizer, AutoModelForCausalLM\n",
    "\n",
    "tokenizer = AutoTokenizer.from_pretrained(\"codellama/CodeLlama-7b-Instruct-hf\")\n",
    "model = AutoModelForCausalLM.from_pretrained(\"codellama/CodeLlama-7b-Instruct-hf\")"
   ],
   "id": "ced655f7af5e750a",
   "outputs": [],
   "execution_count": null
  },
  {
   "metadata": {},
   "cell_type": "code",
   "source": [
    "# Load model directly\n",
    "from transformers import AutoTokenizer, AutoModelForCausalLM\n",
    "\n",
    "model = AutoModelForCausalLM.from_pretrained(\"TheBloke/CodeLlama-7B-Instruct-GGUF\", model_file=\"codellama-7b-instruct.q4_K_M.gguf\", model_type=\"llama\", gpu_layers=0)\n",
    "\n",
    "print(model(\"AI is the future of\"))"
   ],
   "id": "15a2e84b3ca761c",
   "outputs": [],
   "execution_count": null
  }
 ],
 "metadata": {
  "kernelspec": {
   "display_name": "Python 3",
   "language": "python",
   "name": "python3"
  },
  "language_info": {
   "codemirror_mode": {
    "name": "ipython",
    "version": 2
   },
   "file_extension": ".py",
   "mimetype": "text/x-python",
   "name": "python",
   "nbconvert_exporter": "python",
   "pygments_lexer": "ipython2",
   "version": "2.7.6"
  }
 },
 "nbformat": 4,
 "nbformat_minor": 5
}
